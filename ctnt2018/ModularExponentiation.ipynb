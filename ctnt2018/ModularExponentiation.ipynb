{
 "cells": [
  {
   "cell_type": "code",
   "execution_count": 10,
   "metadata": {},
   "outputs": [],
   "source": [
    "def mexp(a,x,N):\n",
    "    m,s=1,a\n",
    "    while x>0:\n",
    "        print('{0:10d} {1:10d} {2:10b}'.format(m,s,x))\n",
    "        if x % 2 ==1:\n",
    "            m=((m*s) % N)\n",
    "        s=((s*s) % N)\n",
    "        x=x//2\n",
    "    return m"
   ]
  },
  {
   "cell_type": "code",
   "execution_count": 11,
   "metadata": {},
   "outputs": [
    {
     "name": "stdout",
     "output_type": "stream",
     "text": [
      "         1          5    1111011\n",
      "         5         25     111101\n",
      "       125        625      11110\n",
      "       125      21028       1111\n",
      "     41321      15573        111\n",
      "     23556      62697         11\n",
      "    104119       3316          1\n"
     ]
    },
    {
     "data": {
      "text/plain": [
       "55006"
      ]
     },
     "execution_count": 11,
     "metadata": {},
     "output_type": "execute_result"
    }
   ],
   "source": [
    "mexp(5,123,123199)"
   ]
  },
  {
   "cell_type": "code",
   "execution_count": null,
   "metadata": {},
   "outputs": [],
   "source": []
  }
 ],
 "metadata": {
  "kernelspec": {
   "display_name": "Python 3",
   "language": "python",
   "name": "python3"
  },
  "language_info": {
   "codemirror_mode": {
    "name": "ipython",
    "version": 3
   },
   "file_extension": ".py",
   "mimetype": "text/x-python",
   "name": "python",
   "nbconvert_exporter": "python",
   "pygments_lexer": "ipython3",
   "version": "3.6.5"
  }
 },
 "nbformat": 4,
 "nbformat_minor": 2
}
